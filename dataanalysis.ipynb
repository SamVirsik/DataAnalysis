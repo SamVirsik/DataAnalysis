{
 "cells": [
  {
   "cell_type": "markdown",
   "metadata": {},
   "source": [
    "# FishFinder\n",
    "### Sam Virsik"
   ]
  },
  {
   "cell_type": "code",
   "execution_count": 3,
   "metadata": {},
   "outputs": [
    {
     "name": "stderr",
     "output_type": "stream",
     "text": [
      "C:\\Users\\SamV\\AppData\\Local\\Temp\\ipykernel_19444\\129697075.py:2: DeprecationWarning: \n",
      "Pyarrow will become a required dependency of pandas in the next major release of pandas (pandas 3.0),\n",
      "(to allow more performant data types, such as the Arrow string type, and better interoperability with other libraries)\n",
      "but was not found to be installed on your system.\n",
      "If this would cause problems for you,\n",
      "please provide us feedback at https://github.com/pandas-dev/pandas/issues/54466\n",
      "        \n",
      "  import pandas as pd\n"
     ]
    }
   ],
   "source": [
    "import tifffile as tiff\n",
    "import pandas as pd\n",
    "import numpy as np\n",
    "import matplotlib.pyplot as plt\n",
    "import matplotlib.colors as mcolors\n",
    "from PIL import Image\n",
    "#import random\n",
    "import time\n",
    "import imagecodecs\n",
    "#import scipy.sparse as sp\n",
    "import matplotlib.cm as cm"
   ]
  },
  {
   "cell_type": "code",
   "execution_count": 4,
   "metadata": {},
   "outputs": [],
   "source": [
    "#A function to get the data from the tif/tiff file and convert it to a dataframe\n",
    "def readData(importName):\n",
    "    tif_data = tiff.imread(importName)\n",
    "    df = pd.DataFrame(tif_data)\n",
    "    number_rows, number_columns = df.shape\n",
    "    return df"
   ]
  },
  {
   "cell_type": "code",
   "execution_count": 5,
   "metadata": {},
   "outputs": [],
   "source": [
    "#Getting the data\n",
    "img_1 = readData(\"data\\img_1_data.tif\")\n",
    "img_4 = readData(\"data\\img_4_data.tif\")\n",
    "img_7 = readData(\"data\\img_7_data.tif\")\n",
    "img_9 = readData(\"data\\img_9_data.tif\")\n",
    "img_20 = readData(\"data\\img_20_data.tiff\") #This is a tiff, not a tif, since for some reason they decided to change the file format halfway through my project. It's fine, the code works identically on it. "
   ]
  }
 ],
 "metadata": {
  "kernelspec": {
   "display_name": ".venv",
   "language": "python",
   "name": "python3"
  },
  "language_info": {
   "codemirror_mode": {
    "name": "ipython",
    "version": 3
   },
   "file_extension": ".py",
   "mimetype": "text/x-python",
   "name": "python",
   "nbconvert_exporter": "python",
   "pygments_lexer": "ipython3",
   "version": "3.9.13"
  }
 },
 "nbformat": 4,
 "nbformat_minor": 2
}
